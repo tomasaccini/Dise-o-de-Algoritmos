{
 "cells": [
  {
   "cell_type": "markdown",
   "metadata": {},
   "source": [
    "# Suma de dados\n",
    "### Consigna\n",
    "Dado un numero de dados `n` y un valor entero `s`, obtener todas las combinaciones posibles de una tirada de los `n` dados tal que el resultado es `s`.\n",
    "\n",
    "### Algoritmos utilizados\n",
    "* Fuerza bruta\n",
    "* Backtracking"
   ]
  },
  {
   "cell_type": "code",
   "execution_count": 1,
   "metadata": {
    "collapsed": true
   },
   "outputs": [],
   "source": [
    "def fuerza_bruta(n, s):\n",
    "    soluciones = []\n",
    "    _fuerza_bruta(n, s, soluciones, [])\n",
    "    return soluciones\n",
    "    \n",
    "def _fuerza_bruta(n, s, soluciones, combinacion_actual):\n",
    "    if (len(combinacion_actual) > n):\n",
    "        return\n",
    "    if (len(combinacion_actual) == n):\n",
    "        if (sum(combinacion_actual) == s):\n",
    "            soluciones.append(combinacion_actual)\n",
    "    for i in range(1, 7):\n",
    "        combinacion_actual_copy = combinacion_actual.copy()\n",
    "        combinacion_actual_copy.append(i)\n",
    "        _fuerza_bruta(n, s, soluciones, combinacion_actual_copy)"
   ]
  },
  {
   "cell_type": "code",
   "execution_count": 2,
   "metadata": {},
   "outputs": [
    {
     "name": "stdout",
     "output_type": "stream",
     "text": [
      "Por fuerza bruta tardó 241.66753721237183 segundos.\n",
      "2930455 soluciones encontradas\n"
     ]
    }
   ],
   "source": [
    "from time import time\n",
    "initial_time = time()\n",
    "solucion = fuerza_bruta(10,40)\n",
    "print(\"Por fuerza bruta tardó\", time() - initial_time, \"segundos.\")\n",
    "print(len(solucion), \"soluciones encontradas\")"
   ]
  },
  {
   "cell_type": "code",
   "execution_count": 3,
   "metadata": {
    "collapsed": true
   },
   "outputs": [],
   "source": [
    "def backtracking(n, s):\n",
    "    soluciones = []\n",
    "    _backtracking(n, s, soluciones, [])\n",
    "    return soluciones\n",
    "    \n",
    "def _backtracking(n, s, soluciones, combinacion_actual):\n",
    "    if (len(combinacion_actual) > n):\n",
    "        return\n",
    "    # Poda\n",
    "    if (sum(combinacion_actual) + (n - len(combinacion_actual)) > s):\n",
    "        return\n",
    "    if (sum(combinacion_actual) + 6 * (n - len(combinacion_actual)) < s):\n",
    "        return\n",
    "    if (len(combinacion_actual) == n):\n",
    "        if (sum(combinacion_actual) == s):\n",
    "            soluciones.append(combinacion_actual)\n",
    "    for i in range(1, 7):\n",
    "        \n",
    "        combinacion_actual_copy = combinacion_actual.copy()\n",
    "        combinacion_actual_copy.append(i)\n",
    "        _backtracking(n, s, soluciones, combinacion_actual_copy)"
   ]
  },
  {
   "cell_type": "code",
   "execution_count": 4,
   "metadata": {},
   "outputs": [
    {
     "name": "stdout",
     "output_type": "stream",
     "text": [
      "Por backtracking tardó 42.497967004776 segundos.\n",
      "2930455 soluciones encontradas\n"
     ]
    }
   ],
   "source": [
    "initial_time = time()\n",
    "solucion = backtracking(10,40)\n",
    "print(\"Por backtracking tardó\", time() - initial_time, \"segundos.\")\n",
    "print(len(solucion), \"soluciones encontradas\")"
   ]
  }
 ],
 "metadata": {
  "kernelspec": {
   "display_name": "Python 3",
   "language": "python",
   "name": "python3"
  },
  "language_info": {
   "codemirror_mode": {
    "name": "ipython",
    "version": 3
   },
   "file_extension": ".py",
   "mimetype": "text/x-python",
   "name": "python",
   "nbconvert_exporter": "python",
   "pygments_lexer": "ipython3",
   "version": "3.6.1"
  }
 },
 "nbformat": 4,
 "nbformat_minor": 2
}
