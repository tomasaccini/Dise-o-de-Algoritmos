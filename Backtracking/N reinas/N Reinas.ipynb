{
 "cells": [
  {
   "cell_type": "markdown",
   "metadata": {},
   "source": [
    "# N reinas\n",
    "### Consigna\n",
    "Encontrar todas las soluciones posibles que ubican en un tablero de ajedrez de NxN, N reinas sin que se coman entre sí. Las reinas se pueden mover sin límite por fila, columna o en diagonal, es decir, no puede haber dos reinas en la misma fila, columna o diagonal.\n",
    "\n",
    "### Algoritmos utilizados\n",
    "* Fuerza bruta\n",
    "* Backtracking"
   ]
  },
  {
   "cell_type": "code",
   "execution_count": 1,
   "metadata": {
    "collapsed": true
   },
   "outputs": [],
   "source": [
    "from pandas import *\n",
    "from IPython.display import HTML\n",
    "\n",
    "def color_styling(val):\n",
    "    color = 'red' if val == 0 else 'black'\n",
    "    return 'color: %s' % color\n",
    "\n",
    "class Tablero:\n",
    "    def __init__(self, N):\n",
    "        self.N = N\n",
    "        self.reinas = set()\n",
    "        self.cantidad_reinas = 0\n",
    "        self.posiciones_validas = set()\n",
    "        for i in range (1,N+1):\n",
    "            for j in range(1, N+1):\n",
    "                self.posiciones_validas.add((i, j))\n",
    "        self.tablero_df = DataFrame()\n",
    "    \n",
    "    def es_factible(self, posicion):\n",
    "        return posicion in self.posiciones_validas\n",
    "    \n",
    "    def agregar_posicion(self, posicion):\n",
    "        x = posicion[0]\n",
    "        y = posicion[1]\n",
    "        # elimina filas y columnas.\n",
    "        for i in range(1, self.N+1):\n",
    "            # .discard() elimina el elemento si existe\n",
    "            self.posiciones_validas.discard((x, i))\n",
    "            self.posiciones_validas.discard((i, y))\n",
    "        # elimina diagonales hacia la derecha\n",
    "        for i in range(1, self.N + 1 - x):\n",
    "            self.posiciones_validas.discard((x + i, y + i))\n",
    "            self.posiciones_validas.discard((x + i, y - i))\n",
    "        # elimina diagonales hacia la izquierda\n",
    "        for i in range(1, x):\n",
    "            self.posiciones_validas.discard((x - i, y + i))\n",
    "            self.posiciones_validas.discard((x - i, y - i))\n",
    "        self.reinas.add(posicion)\n",
    "        self.cantidad_reinas += 1\n",
    "    \n",
    "    def actualizar_representacion(self):\n",
    "        tablero = []\n",
    "        for i in range(1, self.N+1):\n",
    "            fila = []\n",
    "            for j in range(1, self.N+1):\n",
    "                if ((i, j) in self.reinas):\n",
    "                    fila.append('R')\n",
    "                elif ((i, j) in self.posiciones_validas):\n",
    "                    fila.append('_')\n",
    "                else:\n",
    "                    fila.append('x')\n",
    "            tablero.append(fila)\n",
    "        self.tablero_df = DataFrame(tablero, columns = [i for i in range(1, self.N+1)], index = [i for i in range(1, self.N+1)])\n",
    "        \n",
    "    def __str__(self):\n",
    "        self.actualizar_representacion()\n",
    "        return self.tablero_df.__str__()\n",
    "        \n",
    "    def copy(self):\n",
    "        t = Tablero(self.N)\n",
    "        t.posiciones_validas = self.posiciones_validas.copy()\n",
    "        t.tablero_df = self.tablero_df.copy()\n",
    "        t.cantidad_reinas = self.cantidad_reinas\n",
    "        t.reinas = self.reinas.copy()\n",
    "        return t"
   ]
  },
  {
   "cell_type": "code",
   "execution_count": 2,
   "metadata": {},
   "outputs": [
    {
     "name": "stdout",
     "output_type": "stream",
     "text": [
      "   1  2  3  4  5\n",
      "1  x  R  x  x  x\n",
      "2  x  x  x  _  _\n",
      "3  _  x  _  x  _\n",
      "4  _  x  _  _  x\n",
      "5  _  x  _  _  _\n"
     ]
    }
   ],
   "source": [
    "t = Tablero(5)\n",
    "t.agregar_posicion((1,2))\n",
    "t.actualizar_representacion()\n",
    "print(t.tablero_df)"
   ]
  },
  {
   "cell_type": "markdown",
   "metadata": {},
   "source": [
    "## Fuerza bruta\n",
    "Vamos a probar todas las combinaciones posibles"
   ]
  },
  {
   "cell_type": "code",
   "execution_count": 3,
   "metadata": {
    "collapsed": true
   },
   "outputs": [],
   "source": [
    "def fuerza_bruta(tablero):\n",
    "    soluciones = []\n",
    "    _fuerza_bruta(tablero, soluciones, 1, 0)\n",
    "    return soluciones\n",
    "\n",
    "def _fuerza_bruta(tablero, soluciones, fila, columna):\n",
    "    # Caso base\n",
    "    if columna > tablero.N:\n",
    "        return\n",
    "    if (tablero.es_factible((fila, columna))):\n",
    "        tablero.agregar_posicion((fila,columna))\n",
    "        if (tablero.cantidad_reinas == tablero.N):\n",
    "            soluciones.append(tablero.copy())\n",
    "    for i in range(1, tablero.N + 1):\n",
    "        _fuerza_bruta(tablero.copy(), soluciones, i, columna + 1)"
   ]
  },
  {
   "cell_type": "code",
   "execution_count": 4,
   "metadata": {},
   "outputs": [
    {
     "name": "stdout",
     "output_type": "stream",
     "text": [
      "Con fuerza bruta tardó:  109.45391297340393  segundos.\n",
      "Cantidad de soluciones:  4\n",
      "\n",
      "\n",
      "    1  2  3  4  5  6\n",
      "1  x  x  x  R  x  x\n",
      "2  R  x  x  x  x  x\n",
      "3  x  x  x  x  R  x\n",
      "4  x  R  x  x  x  x\n",
      "5  x  x  x  x  x  R\n",
      "6  x  x  R  x  x  x\n",
      "\n",
      "\n",
      "    1  2  3  4  5  6\n",
      "1  x  x  x  x  R  x\n",
      "2  x  x  R  x  x  x\n",
      "3  R  x  x  x  x  x\n",
      "4  x  x  x  x  x  R\n",
      "5  x  x  x  R  x  x\n",
      "6  x  R  x  x  x  x\n",
      "\n",
      "\n",
      "    1  2  3  4  5  6\n",
      "1  x  R  x  x  x  x\n",
      "2  x  x  x  R  x  x\n",
      "3  x  x  x  x  x  R\n",
      "4  R  x  x  x  x  x\n",
      "5  x  x  R  x  x  x\n",
      "6  x  x  x  x  R  x\n",
      "\n",
      "\n",
      "    1  2  3  4  5  6\n",
      "1  x  x  R  x  x  x\n",
      "2  x  x  x  x  x  R\n",
      "3  x  R  x  x  x  x\n",
      "4  x  x  x  x  R  x\n",
      "5  R  x  x  x  x  x\n",
      "6  x  x  x  R  x  x\n"
     ]
    }
   ],
   "source": [
    "from time import time\n",
    "t = Tablero(6)\n",
    "initial_time = time()\n",
    "soluciones = fuerza_bruta(t)\n",
    "print(\"Con fuerza bruta tardó: \", time() - initial_time, \" segundos.\")\n",
    "print(\"Cantidad de soluciones: \",len(soluciones))\n",
    "for i in range(len(soluciones)):\n",
    "    print('\\n\\n', soluciones[i])"
   ]
  },
  {
   "cell_type": "markdown",
   "metadata": {},
   "source": [
    "## Backtracking\n",
    "Ahora podemos los caminos que ya sabemos que no pueden funcionar"
   ]
  },
  {
   "cell_type": "code",
   "execution_count": 5,
   "metadata": {
    "collapsed": true
   },
   "outputs": [],
   "source": [
    "def backtracking(tablero):\n",
    "    soluciones = []\n",
    "    _backtracking(tablero, soluciones, 1, 0)\n",
    "    return soluciones\n",
    "\n",
    "def _backtracking(tablero, soluciones, fila, columna):\n",
    "    # Caso base\n",
    "    if columna > tablero.N:\n",
    "        return\n",
    "    # Si la columna es 0 llamo a BT para todas las filas de la primer columna\n",
    "    if columna == 0:\n",
    "        for i in range(1, tablero.N + 1):\n",
    "            _backtracking(tablero.copy(), soluciones, i, columna + 1)\n",
    "    if (tablero.es_factible((fila, columna))):\n",
    "        tablero.agregar_posicion((fila,columna))\n",
    "        if (tablero.cantidad_reinas == tablero.N):\n",
    "            soluciones.append(tablero.copy())\n",
    "        for i in range(1, tablero.N + 1):\n",
    "            _backtracking(tablero.copy(), soluciones, i, columna + 1)"
   ]
  },
  {
   "cell_type": "code",
   "execution_count": 6,
   "metadata": {},
   "outputs": [
    {
     "name": "stdout",
     "output_type": "stream",
     "text": [
      "Con backtracking tardó:  0.2924158573150635  segundos.\n",
      "Cantidad de soluciones:  4\n",
      "\n",
      "\n",
      "    1  2  3  4  5  6\n",
      "1  x  x  x  R  x  x\n",
      "2  R  x  x  x  x  x\n",
      "3  x  x  x  x  R  x\n",
      "4  x  R  x  x  x  x\n",
      "5  x  x  x  x  x  R\n",
      "6  x  x  R  x  x  x\n",
      "\n",
      "\n",
      "    1  2  3  4  5  6\n",
      "1  x  x  x  x  R  x\n",
      "2  x  x  R  x  x  x\n",
      "3  R  x  x  x  x  x\n",
      "4  x  x  x  x  x  R\n",
      "5  x  x  x  R  x  x\n",
      "6  x  R  x  x  x  x\n",
      "\n",
      "\n",
      "    1  2  3  4  5  6\n",
      "1  x  R  x  x  x  x\n",
      "2  x  x  x  R  x  x\n",
      "3  x  x  x  x  x  R\n",
      "4  R  x  x  x  x  x\n",
      "5  x  x  R  x  x  x\n",
      "6  x  x  x  x  R  x\n",
      "\n",
      "\n",
      "    1  2  3  4  5  6\n",
      "1  x  x  R  x  x  x\n",
      "2  x  x  x  x  x  R\n",
      "3  x  R  x  x  x  x\n",
      "4  x  x  x  x  R  x\n",
      "5  R  x  x  x  x  x\n",
      "6  x  x  x  R  x  x\n"
     ]
    }
   ],
   "source": [
    "t = Tablero(6)\n",
    "initial_time = time()\n",
    "soluciones = backtracking(t)\n",
    "print(\"Con backtracking tardó: \", time() - initial_time, \" segundos.\")\n",
    "print(\"Cantidad de soluciones: \",len(soluciones))\n",
    "for i in range(len(soluciones)):\n",
    "    print('\\n\\n', soluciones[i])"
   ]
  }
 ],
 "metadata": {
  "kernelspec": {
   "display_name": "Python 3",
   "language": "python",
   "name": "python3"
  },
  "language_info": {
   "codemirror_mode": {
    "name": "ipython",
    "version": 3
   },
   "file_extension": ".py",
   "mimetype": "text/x-python",
   "name": "python",
   "nbconvert_exporter": "python",
   "pygments_lexer": "ipython3",
   "version": "3.6.1"
  }
 },
 "nbformat": 4,
 "nbformat_minor": 2
}
