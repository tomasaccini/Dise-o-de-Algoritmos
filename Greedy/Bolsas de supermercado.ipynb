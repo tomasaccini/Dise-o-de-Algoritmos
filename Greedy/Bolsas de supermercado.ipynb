{
 "cells": [
  {
   "cell_type": "markdown",
   "metadata": {},
   "source": [
    "# Bolsas de supermercado\n",
    "### Consigna\n",
    "Las bolsas de un supermercado se cobran por separado y soportan hasta un peso máximo P, por encima del cual se rompen.\n",
    "Implementar el pseudocódigo de un algoritmo greedy que, teniendo una lista de pesos de n productos comprados, encuentre la mejor forma de distribuir los productos en la menor cantidad posible de bolsas.\n",
    "### Algoritmos utilizados\n",
    "* Greedy\n",
    "\n",
    "#### Análisis\n",
    "A priori, hay dos opciones:\n",
    "Ordenar de mayor a menor.\n",
    "1. Ordenar la lista de productos por pesos de **mayor a menor**.\n",
    "2. Abrir una nueva bolsa.\n",
    "3. Buscar el elemento más **grande** que entre en la bolsa, sacarlo de la lista y agregarlo a la bolsa.\n",
    "4. Repetir el punto 3 hasta que la bolsa se llene o no haya más elementos en la lista que entren en la bolsa.\n",
    "5. Si sigue habiendo elementos, volver al punto 2.\n",
    "\n",
    "U ordenar de menor a mayor.\n",
    "1. Ordenar la lista de productos por pesos de **menor a mayor**.\n",
    "2. Abrir una nueva bolsa.\n",
    "3. Buscar el elemento más **chico** que entre en la bolsa, sacarlo de la lista y agregarlo a la bolsa.\n",
    "4. Repetir el punto 3 hasta que la bolsa se llene o no haya más elementos en la lista que entren en la bolsa.\n",
    "5. Si sigue habiendo elementos, volver al punto 2.\n",
    "\n",
    "Probemos ambos algoritmos"
   ]
  },
  {
   "cell_type": "code",
   "execution_count": 4,
   "metadata": {
    "collapsed": true
   },
   "outputs": [],
   "source": [
    "def embolsar_maximo(peso, lista_pesos):\n",
    "    lista_pesos = sorted(lista_pesos, reverse = True)\n",
    "    bolsas = []\n",
    "    peso_actual = 0\n",
    "    if (peso < lista_pesos[0]):\n",
    "        return -1\n",
    "    \n",
    "    while (len(lista_pesos) > 0):\n",
    "        nueva_bolsa = []\n",
    "        peso_actual = 0\n",
    "        while(True):\n",
    "            if (peso_actual == peso or len(lista_pesos) == 0 or lista_pesos[-1] > peso - peso_actual):\n",
    "                break\n",
    "            for i in range(len(lista_pesos)):\n",
    "                if (lista_pesos[i] <= peso - peso_actual):\n",
    "                    peso_guardado = lista_pesos.pop(i)\n",
    "                    peso_actual += peso_guardado\n",
    "                    nueva_bolsa.append(peso_guardado)\n",
    "                    break\n",
    "        bolsas.append(nueva_bolsa)\n",
    "    return bolsas"
   ]
  },
  {
   "cell_type": "code",
   "execution_count": 5,
   "metadata": {
    "collapsed": true
   },
   "outputs": [],
   "source": [
    "def embolsar_minimo(peso, lista_pesos):\n",
    "    lista_pesos = sorted(lista_pesos)\n",
    "    bolsas = []\n",
    "    peso_actual = 0\n",
    "    if (peso < lista_pesos[-1]):\n",
    "        return -1\n",
    "    \n",
    "    while (len(lista_pesos) > 0):\n",
    "        nueva_bolsa = []\n",
    "        peso_actual = 0\n",
    "        while(True):\n",
    "            if (peso_actual == peso or len(lista_pesos) == 0 or lista_pesos[0] > peso - peso_actual):\n",
    "                break\n",
    "            peso_guardado = lista_pesos.pop(0)\n",
    "            peso_actual += peso_guardado\n",
    "            nueva_bolsa.append(peso_guardado)\n",
    "        bolsas.append(nueva_bolsa)\n",
    "    return bolsas"
   ]
  },
  {
   "cell_type": "code",
   "execution_count": 7,
   "metadata": {},
   "outputs": [
    {
     "name": "stdout",
     "output_type": "stream",
     "text": [
      "Embolsar maximo. Cantidad de bolsas:  3 . Resultado: [[5], [4, 1], [3, 2]] \n",
      "\n",
      "\n",
      "Embolsar minimo. Cantidad de bolsas:  4 . Resultado: [[1, 2], [3], [4], [5]] \n",
      "\n",
      "\n"
     ]
    }
   ],
   "source": [
    "peso_max = 5\n",
    "pesos = [ 4, 2, 1, 3, 5 ]\n",
    "\n",
    "resultado_embolsar_maximo = embolsar_maximo(peso_max, pesos)\n",
    "resultado_embolsar_minimo = embolsar_minimo(peso_max, pesos)\n",
    "\n",
    "print(\"Embolsar maximo. Cantidad de bolsas: \", len(resultado_embolsar_maximo), \". Resultado:\", resultado_embolsar_maximo, '\\n\\n')\n",
    "print(\"Embolsar minimo. Cantidad de bolsas: \", len(resultado_embolsar_minimo), \". Resultado:\", resultado_embolsar_minimo, '\\n\\n')"
   ]
  },
  {
   "cell_type": "markdown",
   "metadata": {},
   "source": [
    "### Resultado\n",
    "Vemos que la decisión de ordenar de mayor a menor tuvo un mejor resultado en la situación planteada."
   ]
  }
 ],
 "metadata": {
  "kernelspec": {
   "display_name": "Python 3",
   "language": "python",
   "name": "python3"
  },
  "language_info": {
   "codemirror_mode": {
    "name": "ipython",
    "version": 3
   },
   "file_extension": ".py",
   "mimetype": "text/x-python",
   "name": "python",
   "nbconvert_exporter": "python",
   "pygments_lexer": "ipython3",
   "version": "3.6.1"
  }
 },
 "nbformat": 4,
 "nbformat_minor": 2
}
