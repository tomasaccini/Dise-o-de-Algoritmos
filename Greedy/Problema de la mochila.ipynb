{
 "cells": [
  {
   "cell_type": "markdown",
   "metadata": {},
   "source": [
    "# Problema de la mochila\n",
    "### Consigna\n",
    "Se tiene una mochila con una capacidad máxima C. Además, tenemos una serie de elementos con un peso y una ganancia asociados. El objetivo es seleccionar los elementos a guardar en la mochila tal que nos quede la mayor ganancia posible. \n",
    "### Algoritmos utilizados\n",
    "* Greedy\n",
    "\n",
    "#### Análisis\n",
    "Podríamos guardar los elementos ordenados por:\n",
    "* Menor peso\n",
    "* Mayor ganancia\n",
    "* Mayor ganancia/peso"
   ]
  },
  {
   "cell_type": "code",
   "execution_count": 1,
   "metadata": {
    "collapsed": true
   },
   "outputs": [],
   "source": [
    "def mochila_por_menor_peso(capacidad, elementos):\n",
    "    mochila = []\n",
    "    elementos.sort(key=lambda x: x[1])\n",
    "    for i in range(len(elementos)):\n",
    "        if (elementos[i][1] <= capacidad):\n",
    "            capacidad -= elementos[i][1]\n",
    "            mochila.append(elementos[i])\n",
    "        else:\n",
    "            break\n",
    "    return mochila\n",
    "\n",
    "def mochila_por_mayor_ganancia(capacidad, elementos):\n",
    "    mochila = []\n",
    "    elementos.sort(key=lambda x: -x[0])\n",
    "    for i in range(len(elementos)):\n",
    "        if (elementos[i][1] <= capacidad):\n",
    "            capacidad -= elementos[i][1]\n",
    "            mochila.append(elementos[i])\n",
    "    return mochila\n",
    "\n",
    "def mochila_por_ratio(capacidad, elementos):\n",
    "    mochila = []\n",
    "    elementos.sort(key=lambda x: -(x[0]/x[1]))\n",
    "    for i in range(len(elementos)):\n",
    "        if (elementos[i][1] <= capacidad):\n",
    "            capacidad -= elementos[i][1]\n",
    "            mochila.append(elementos[i])\n",
    "    return mochila"
   ]
  },
  {
   "cell_type": "code",
   "execution_count": 2,
   "metadata": {},
   "outputs": [],
   "source": [
    "# (Valor, peso)\n",
    "elementos = [(4, 12), (2, 2), (2, 1), (11, 1), (10, 4), (20, 8)]\n",
    "capacidad_maxima = 15"
   ]
  },
  {
   "cell_type": "code",
   "execution_count": 3,
   "metadata": {},
   "outputs": [
    {
     "name": "stdout",
     "output_type": "stream",
     "text": [
      "Mochila por menor peso:  [(2, 1), (11, 1), (2, 2), (10, 4)] ganancia:  25\n"
     ]
    }
   ],
   "source": [
    "mochila_menor_peso = mochila_por_menor_peso(capacidad_maxima, elementos.copy())\n",
    "ganancia = 0\n",
    "for i in range(len(mochila_menor_peso)):\n",
    "    ganancia += mochila_menor_peso[i][0]\n",
    "print(\"Mochila por menor peso: \", mochila_menor_peso, \"ganancia: \", ganancia)"
   ]
  },
  {
   "cell_type": "code",
   "execution_count": 4,
   "metadata": {},
   "outputs": [
    {
     "name": "stdout",
     "output_type": "stream",
     "text": [
      "Mochila por mayor ganancia:  [(20, 8), (11, 1), (10, 4), (2, 2)] ganancia:  43\n"
     ]
    }
   ],
   "source": [
    "mochila_mayor_ganancia = mochila_por_mayor_ganancia(capacidad_maxima, elementos.copy())\n",
    "ganancia = 0\n",
    "for i in range(len(mochila_mayor_ganancia)):\n",
    "    ganancia += mochila_mayor_ganancia[i][0]\n",
    "    \n",
    "print(\"Mochila por mayor ganancia: \", mochila_mayor_ganancia, \"ganancia: \", ganancia)"
   ]
  },
  {
   "cell_type": "code",
   "execution_count": 5,
   "metadata": {},
   "outputs": [
    {
     "name": "stdout",
     "output_type": "stream",
     "text": [
      "Mochila por mayor ratio ganancia/peso:  [(11, 1), (10, 4), (20, 8), (2, 1)] ganancia:  43\n"
     ]
    }
   ],
   "source": [
    "mochila_ratio = mochila_por_ratio(capacidad_maxima, elementos.copy())\n",
    "ganancia = 0\n",
    "for i in range(len(mochila_ratio)):\n",
    "    ganancia += mochila_ratio[i][0]\n",
    "    \n",
    "print(\"Mochila por mayor ratio ganancia/peso: \", mochila_ratio, \"ganancia: \", ganancia)"
   ]
  },
  {
   "cell_type": "markdown",
   "metadata": {},
   "source": [
    "### Resultado\n",
    "Parecería que ordenando por mayor ganancia y por ratio dan el mismo resultado. Pero son óptimos? Miremos este otro ejemplo"
   ]
  },
  {
   "cell_type": "code",
   "execution_count": 6,
   "metadata": {
    "collapsed": true
   },
   "outputs": [],
   "source": [
    "elementos = [(60, 15), (100, 20), (159, 30)]\n",
    "capacidad_maxima = 35"
   ]
  },
  {
   "cell_type": "code",
   "execution_count": 7,
   "metadata": {},
   "outputs": [
    {
     "name": "stdout",
     "output_type": "stream",
     "text": [
      "Mochila por mayor ganancia:  [(159, 30)] ganancia:  159\n"
     ]
    }
   ],
   "source": [
    "mochila_mayor_ganancia = mochila_por_mayor_ganancia(capacidad_maxima, elementos.copy())\n",
    "ganancia = 0\n",
    "for i in range(len(mochila_mayor_ganancia)):\n",
    "    ganancia += mochila_mayor_ganancia[i][0]\n",
    "    \n",
    "print(\"Mochila por mayor ganancia: \", mochila_mayor_ganancia, \"ganancia: \", ganancia)"
   ]
  },
  {
   "cell_type": "code",
   "execution_count": 8,
   "metadata": {},
   "outputs": [
    {
     "name": "stdout",
     "output_type": "stream",
     "text": [
      "Mochila por mayor ratio ganancia/peso:  [(159, 30)] ganancia:  159\n"
     ]
    }
   ],
   "source": [
    "mochila_ratio = mochila_por_ratio(capacidad_maxima, elementos.copy())\n",
    "ganancia = 0\n",
    "for i in range(len(mochila_ratio)):\n",
    "    ganancia += mochila_ratio[i][0]\n",
    "    \n",
    "print(\"Mochila por mayor ratio ganancia/peso: \", mochila_ratio, \"ganancia: \", ganancia)"
   ]
  },
  {
   "cell_type": "markdown",
   "metadata": {},
   "source": [
    "Ambos arrojan el mismo resultado. Pero no es óptimo! La mejor solución sería una mochila conformada por [(60, 15), (100, 20)], cuya ganancia es 160."
   ]
  }
 ],
 "metadata": {
  "kernelspec": {
   "display_name": "Python 3",
   "language": "python",
   "name": "python3"
  },
  "language_info": {
   "codemirror_mode": {
    "name": "ipython",
    "version": 3
   },
   "file_extension": ".py",
   "mimetype": "text/x-python",
   "name": "python",
   "nbconvert_exporter": "python",
   "pygments_lexer": "ipython3",
   "version": "3.6.1"
  }
 },
 "nbformat": 4,
 "nbformat_minor": 2
}
