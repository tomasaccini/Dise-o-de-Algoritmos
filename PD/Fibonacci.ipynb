{
 "cells": [
  {
   "cell_type": "markdown",
   "metadata": {},
   "source": [
    "# Fibonacci\n",
    "Vamos a calcular el número n de la serie de fibonacci. Sabemos que la solución naive recursiva es O(2^n), y que incluso con valores chicos es incalculable. Por eso vamos a aplicar programación dinámica para encontrar estos números.\n",
    "\n",
    "### Algoritmos utilizados\n",
    "* Programación dinámica\n",
    "\n",
    "#### Análisis\n",
    "A priori, hay cuatro opciones:\n",
    "* Solución cuatro recursiva\n",
    "* De arriba hacia abajo\n",
    "* De abajo hacia arriba\n",
    "* En O(1) de espacio\n",
    "\n",
    "#### Ejercicio derivado\n",
    "Un ejercicio derivado de Fibonacci es el siguiente: se tiene una escalera y se puede subir de a 1 o de a 2 escalones. Se quiere ver la cantidad de formas de llenar al escalon n. Por lo tanto se tiene:\n",
    "* Escalera(1) = 1\n",
    "* Escalera(2) = 2\n",
    "* Escalera(n) = Escalera(n-1) + Escalera(n-2)\n",
    "\n",
    "Aplica todo lo mismo que a Fibonacci, con las mismas cuatro opciones descriptas a continuación."
   ]
  },
  {
   "cell_type": "code",
   "execution_count": 1,
   "metadata": {
    "collapsed": true
   },
   "outputs": [],
   "source": [
    "from time import time"
   ]
  },
  {
   "cell_type": "markdown",
   "metadata": {},
   "source": [
    "### Recursivo"
   ]
  },
  {
   "cell_type": "code",
   "execution_count": 2,
   "metadata": {
    "collapsed": true
   },
   "outputs": [],
   "source": [
    "def fib_recursivo(n):\n",
    "    return _fib_recursivo(n)\n",
    "\n",
    "def _fib_recursivo(n):\n",
    "    if (n == 0 or n == 1):\n",
    "        return 1\n",
    "    return _fib_recursivo(n-1) + fib_recursivo(n-2)"
   ]
  },
  {
   "cell_type": "code",
   "execution_count": 3,
   "metadata": {},
   "outputs": [
    {
     "name": "stdout",
     "output_type": "stream",
     "text": [
      "14930352\n",
      "Fibonacci recursivo tardó: 7.077536106109619 segundos\n"
     ]
    }
   ],
   "source": [
    "tiempo_inicial = time()\n",
    "print(fib_recursivo(35))\n",
    "print(\"Fibonacci recursivo tardó:\", time() - tiempo_inicial, \"segundos\")"
   ]
  },
  {
   "cell_type": "markdown",
   "metadata": {},
   "source": [
    "### De arriba hacia abajo\n",
    "Empieza a completar el arreglo desde la posición n"
   ]
  },
  {
   "cell_type": "code",
   "execution_count": 4,
   "metadata": {
    "collapsed": true
   },
   "outputs": [],
   "source": [
    "def fib_arriba_hacia_abajo(n):\n",
    "    numeros = []\n",
    "    for i in range(n+1):\n",
    "        numeros.append(-1)\n",
    "    _fib_arriba_hacia_abajo(n, numeros)\n",
    "    return numeros[n]\n",
    "    \n",
    "def _fib_arriba_hacia_abajo(n, arreglo):\n",
    "    if (arreglo[n] != -1):\n",
    "        return arreglo[n]\n",
    "    if (n == 0 or n == 1):\n",
    "        arreglo[n] = 1\n",
    "    else:\n",
    "        v1 = _fib_arriba_hacia_abajo(n-1, arreglo)\n",
    "        v2 = _fib_arriba_hacia_abajo(n-2, arreglo)\n",
    "        arreglo[n] = v1 + v2\n",
    "    return arreglo[n]"
   ]
  },
  {
   "cell_type": "code",
   "execution_count": 5,
   "metadata": {},
   "outputs": [
    {
     "name": "stdout",
     "output_type": "stream",
     "text": [
      "14930352\n",
      "Fibonacci de arriba hacia abajo tardó: 0.000782012939453125 segundos\n"
     ]
    }
   ],
   "source": [
    "tiempo_inicial = time()\n",
    "print(fib_arriba_hacia_abajo(35))\n",
    "print(\"Fibonacci de arriba hacia abajo tardó:\", time() - tiempo_inicial, \"segundos\")"
   ]
  },
  {
   "cell_type": "markdown",
   "metadata": {},
   "source": [
    "### De abajo hacia arriba\n",
    "Empieza a completar el arreglo desde la posición 0"
   ]
  },
  {
   "cell_type": "code",
   "execution_count": 6,
   "metadata": {
    "collapsed": true
   },
   "outputs": [],
   "source": [
    "def fib_abajo_hacia_arriba(n):\n",
    "    numeros = [1, 1]\n",
    "    for i in range (2, n+1):\n",
    "        numeros.append(numeros[i-1] + numeros[i-2])\n",
    "    return numeros[n]"
   ]
  },
  {
   "cell_type": "code",
   "execution_count": 7,
   "metadata": {},
   "outputs": [
    {
     "name": "stdout",
     "output_type": "stream",
     "text": [
      "14930352\n",
      "Fibonacci de abajo hacia arriba tardó: 0.0007669925689697266 segundos\n"
     ]
    }
   ],
   "source": [
    "tiempo_inicial = time()\n",
    "print(fib_abajo_hacia_arriba(35))\n",
    "print(\"Fibonacci de abajo hacia arriba tardó:\", time() - tiempo_inicial, \"segundos\")"
   ]
  },
  {
   "cell_type": "markdown",
   "metadata": {},
   "source": [
    "#### En O(1) de espacio\n",
    "Nos guardamos los dos valores anteriores, sin necesidad de tener un arreglo"
   ]
  },
  {
   "cell_type": "code",
   "execution_count": 8,
   "metadata": {
    "collapsed": true
   },
   "outputs": [],
   "source": [
    "def fib_optimizado_en_espacio(n):\n",
    "    valor1 = 0\n",
    "    valor2 = 1\n",
    "    resultado = 1\n",
    "    for i in range (2, n+1):\n",
    "        valor1 = valor2\n",
    "        valor2 = resultado\n",
    "        resultado = valor1 + valor2\n",
    "    return resultado"
   ]
  },
  {
   "cell_type": "code",
   "execution_count": 9,
   "metadata": {},
   "outputs": [
    {
     "name": "stdout",
     "output_type": "stream",
     "text": [
      "14930352\n",
      "Fibonacci optimizado en espacio tardó: 0.0007188320159912109 segundos\n"
     ]
    }
   ],
   "source": [
    "tiempo_inicial = time()\n",
    "print(fib_optimizado_en_espacio(35))\n",
    "print(\"Fibonacci optimizado en espacio tardó:\", time() - tiempo_inicial, \"segundos\")"
   ]
  }
 ],
 "metadata": {
  "kernelspec": {
   "display_name": "Python 3",
   "language": "python",
   "name": "python3"
  },
  "language_info": {
   "codemirror_mode": {
    "name": "ipython",
    "version": 3
   },
   "file_extension": ".py",
   "mimetype": "text/x-python",
   "name": "python",
   "nbconvert_exporter": "python",
   "pygments_lexer": "ipython3",
   "version": "3.6.1"
  }
 },
 "nbformat": 4,
 "nbformat_minor": 2
}
