{
 "cells": [
  {
   "cell_type": "markdown",
   "metadata": {},
   "source": [
    "# Problema del  cambio\n",
    "Tenemos una serie de valores de monedas posibles e infinita cantidad de cada una de las monedas. El objetivo es llegar a un valor n con la menor cantidad de monedas posibles.\n",
    "\n",
    "### Algoritmos utilizados\n",
    "* Programación dinámica\n",
    "\n",
    "#### Análisis\n",
    "A diferencia de lo que pasa con un algoritmo greedy, la solución vía programación dinámica devuelve el resultado óptimo."
   ]
  },
  {
   "cell_type": "code",
   "execution_count": 1,
   "metadata": {
    "collapsed": true
   },
   "outputs": [],
   "source": [
    "def cambio_iterativo(n, monedas):\n",
    "    arreglo = [0]\n",
    "    for i in range(1, n+1):\n",
    "        minimo = 100000000\n",
    "        for valor in monedas:\n",
    "            if (valor > i):\n",
    "                continue\n",
    "            if (minimo > arreglo[i - valor] + 1):\n",
    "                minimo = arreglo[i - valor] + 1\n",
    "        arreglo.append(minimo)\n",
    "    return arreglo[n]"
   ]
  },
  {
   "cell_type": "code",
   "execution_count": 2,
   "metadata": {},
   "outputs": [
    {
     "name": "stdout",
     "output_type": "stream",
     "text": [
      "16\n"
     ]
    }
   ],
   "source": [
    "monedas = [5,2,1]\n",
    "print(cambio_iterativo(80,monedas))"
   ]
  },
  {
   "cell_type": "markdown",
   "metadata": {},
   "source": [
    "Además, podemos calcular una única vez un arreglo grande y acceder al  valor óptimo  por posición"
   ]
  },
  {
   "cell_type": "code",
   "execution_count": 3,
   "metadata": {
    "collapsed": true
   },
   "outputs": [],
   "source": [
    "def cambio_iterativo(n, monedas):\n",
    "    arreglo = [0]\n",
    "    for i in range(1, n+1):\n",
    "        minimo = 100000000\n",
    "        for valor in monedas:\n",
    "            if (valor > i):\n",
    "                continue\n",
    "            if (minimo > arreglo[i - valor] + 1):\n",
    "                minimo = arreglo[i - valor] + 1\n",
    "        arreglo.append(minimo)\n",
    "    return arreglo"
   ]
  },
  {
   "cell_type": "code",
   "execution_count": 4,
   "metadata": {},
   "outputs": [
    {
     "name": "stdout",
     "output_type": "stream",
     "text": [
      "170\n"
     ]
    }
   ],
   "source": [
    "monedas = [5,2,1]\n",
    "resultados = cambio_iterativo(1000,monedas)\n",
    "print(resultados[843])"
   ]
  }
 ],
 "metadata": {
  "kernelspec": {
   "display_name": "Python 3",
   "language": "python",
   "name": "python3"
  },
  "language_info": {
   "codemirror_mode": {
    "name": "ipython",
    "version": 3
   },
   "file_extension": ".py",
   "mimetype": "text/x-python",
   "name": "python",
   "nbconvert_exporter": "python",
   "pygments_lexer": "ipython3",
   "version": "3.6.1"
  }
 },
 "nbformat": 4,
 "nbformat_minor": 2
}
