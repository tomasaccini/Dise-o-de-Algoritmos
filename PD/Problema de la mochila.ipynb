{
 "cells": [
  {
   "cell_type": "markdown",
   "metadata": {},
   "source": [
    "# Problema de la mochila\n",
    "En esta variante del problema de la mochila vamos a tener una capacidad máxima y elementos que ocupan un determinado espacio. Estos elementos no tienen ninguna ganancia asociada, el objetivo es llenar la mayor parte de la mochila. \n",
    "\n",
    "Algunos ejemplos prácticos son:\n",
    "* Tengo 24 horas de uso disponibles de una máquina, y n tareas a realizar donde P[i], con 1 <= i <= n, es el tiempo que ocupa la tarea i. Seleccionar las tareas a realizar para ocupar la mayor cantidad del tiempo disponible de la máquina.\n",
    "* Tengo 10 m3 disponibles en un cuarto, y n muebles a meter donde P[i], con 1 <= i <= n, es la cantidad de m3 que ocupa el mueble i. Seleccionar los muebles a meter para ocupar la mayor cantidad de m3 del cuarto.\n",
    "\n",
    "Se puede observar que no importa el orden en el cual se utilicen los elementos.\n",
    "Se puede resolver con greedy? Veamos que no da muy buenos resultados:\n",
    "Imaginemos que tenemos 2 horas para usar una máquina, y tres tareas que ocupan [1.01, 1, 1]. Si ordenamos de mayor a menor vamos a seleccionar la primer tarea y nos va a quedar 0.99 horas libres, y no podremos realizar ninguna otra tarea.\n",
    "Ahora imaginemos que tenemos 2 horas, y las tareas tardan [0.01, 1, 1]. Si ordenamos de menor a mayor, vamos a seleccionar las primeras dos tareas, usando 1.01 horas la máquina y nos vuelven a quedar 0.99 horas libres. \n",
    "Como se puede ver, el algoritmo a utilizar depende mucho del problema, y puede dar resultados muy malos.\n",
    "\n",
    "## Algoritmos a utilizar\n",
    "* Programación dinámica\n",
    "\n",
    "#### Análisis\n",
    "Vamos a armar una matriz llamada Optimo, donde Optimo(i, w) va a representar el tiempo utilizado de forma óptima teniendo disponibles las tareas 0, 1, 2, ..., i, y teniendo disponible w horas. La matriz tendrá dimensión N x W, siendo N la cantidad de tareas disponibles, y W el tiempo total disponible. La solución final será Optimo(N, W).\n",
    "\n",
    "Sabemos entonces que Optimo(0, j), para todo j, es 0 porque no hay ninguna tarea para realizar. \n",
    "Del mismo modo, sabemos que Optimo(j, 0), para todo j, es 0 porque no hay tiempo disponible para realizar ninguna tarea.\n",
    "\n",
    "En base a eso, vemos que el Optimo(n, w) va a ser el máximo de:\n",
    "* Optimo(n-1, w)\n",
    "* Optimo(n-1, w - P[n]) + P[n]"
   ]
  },
  {
   "cell_type": "code",
   "execution_count": 1,
   "metadata": {},
   "outputs": [],
   "source": [
    "def mochila(pesos, capacidad):\n",
    "    optimo = [[]]\n",
    "    for capacidad_i in range(capacidad + 1):\n",
    "        optimo[0].append(0)\n",
    "    for peso_i in range(len(pesos)):\n",
    "        optimo.append([0])\n",
    "    for peso_i in range(1, len(pesos) + 1):\n",
    "        for capacidad_j in range(1, capacidad + 1):\n",
    "            v1 = optimo[peso_i-1][capacidad_j]\n",
    "            v2 = 0\n",
    "            if (capacidad_j >= pesos[peso_i-1]):\n",
    "                v2 = optimo[peso_i-1][capacidad_j - pesos[peso_i-1]] + pesos[peso_i-1]\n",
    "            optimo[peso_i].append(max(v1, v2))\n",
    "    for peso_i in range(len(pesos) + 1):\n",
    "        print(optimo[peso_i])    "
   ]
  },
  {
   "cell_type": "code",
   "execution_count": 2,
   "metadata": {},
   "outputs": [
    {
     "name": "stdout",
     "output_type": "stream",
     "text": [
      "[0, 0, 0, 0, 0, 0, 0]\n",
      "[0, 1, 1, 1, 1, 1, 1]\n",
      "[0, 1, 1, 3, 4, 4, 4]\n",
      "[0, 1, 1, 3, 4, 5, 6]\n"
     ]
    }
   ],
   "source": [
    "pesos = [1,3,5]\n",
    "capacidad = 6\n",
    "mochila(pesos, capacidad)"
   ]
  }
 ],
 "metadata": {
  "kernelspec": {
   "display_name": "Python 3",
   "language": "python",
   "name": "python3"
  },
  "language_info": {
   "codemirror_mode": {
    "name": "ipython",
    "version": 3
   },
   "file_extension": ".py",
   "mimetype": "text/x-python",
   "name": "python",
   "nbconvert_exporter": "python",
   "pygments_lexer": "ipython3",
   "version": "3.6.1"
  }
 },
 "nbformat": 4,
 "nbformat_minor": 2
}
