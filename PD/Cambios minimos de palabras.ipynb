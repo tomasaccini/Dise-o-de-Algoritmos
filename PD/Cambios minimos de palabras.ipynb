{
 "cells": [
  {
   "cell_type": "markdown",
   "metadata": {},
   "source": [
    "# Cambios mínimos de una palabra a otra\n",
    "Tenemos dos palabras de tamaño m y n respectivamente. Queremos hacer la menor cantidad de cambios para convertir una palabra en otra, siguiendo las siguientes reglas:\n",
    "* Dejar una letra cuesta 0\n",
    "* Cambiar una letra por otra cuesta 1\n",
    "* Agregar una letra cuesta 1\n",
    "* Borrar una letra cuesta 1\n",
    "\n",
    "## Algoritmos utilizados\n",
    "* Programación dinámica\n",
    "\n",
    "#### Análisis\n",
    "Vamos a definir dos arreglos, A y B que tienen las dos palabras, con una letra por posición del arreglo. Además vamos a definir una matriz, Optimo, donde Optimo(i,j) es el mínimo costo posible para pasar de A[1,2,...,i] a B[1,2,...,j].  Ejemplo:\n",
    "A = [C,A,S,A,L]\n",
    "B = [C,O,S,T,A]\n",
    "\n",
    "Optimo(0,0) = 0, porque representa tener dos cadenas vacías que ya son iguales.\n",
    "Optimo(1,0) = 1, porque es pasar de [C] a [], que consiste en borrar\n",
    "Esto se extiende a Optimo(i,0) = i, y a Optimo(0,j) = j.\n",
    "\n",
    "Además, para el ejemplo dado:\n",
    "Optimo(1,1) = 0, porque [C] = [C]\n",
    "Optimo(1,2) = Optimo(2,1) = 1, porque es pasar de [C,A] a [C], o de [C] a [C,O], que en ambos casos es agregar una letra.\n",
    "\n",
    "Por lo tanto, nos queda que el Optimo(i,j) será el menor de:\n",
    "* Optimo(i-1, j-1) + 0 si A[i] = B[j]\n",
    "* Optimo(i-1, j-1) + 1 si A[i] != B[j]\n",
    "* Optimo(i, j-1) + 1 si tengo que borrar un elemento de A o agregar uno en B\n",
    "* Optimo(i-1, j) + 1 si tengo que borrar un elemento de B o agregar uno en A"
   ]
  },
  {
   "cell_type": "code",
   "execution_count": 1,
   "metadata": {},
   "outputs": [],
   "source": [
    "def diferencia(l1, l2):\n",
    "    if (l1 == l2):\n",
    "        return 0\n",
    "    return 1\n",
    "\n",
    "def cambios_minimos(p1, p2):\n",
    "    ''' Como fila va p1, como columna p2 '''\n",
    "    # Inicialización\n",
    "    optimo = [[0]]\n",
    "    for i in range(1, len(p2) + 1):\n",
    "        optimo[0].append(i)\n",
    "    for i in range(1, len(p1) + 1):\n",
    "        optimo.append([i])\n",
    "    \n",
    "    # Resto de la matriz\n",
    "    for i in range(1, len(p1) + 1):\n",
    "        for j in range(1, len(p2) + 1):\n",
    "            v1 = optimo[i-1][j-1] + diferencia(p1[i - 1], p2[j - 1])\n",
    "            v2 = optimo[i][j-1] + 1\n",
    "            v3 = optimo[i-1][j] + 1\n",
    "            minimo = v1\n",
    "            if (minimo > v2):\n",
    "                minimo = v2\n",
    "            if (minimo > v3):\n",
    "                minimo = v3\n",
    "            optimo[i].append(minimo)\n",
    "   \n",
    "    \n",
    "    for i in range(len(p1) + 1):\n",
    "        print(optimo[i])"
   ]
  },
  {
   "cell_type": "code",
   "execution_count": 2,
   "metadata": {},
   "outputs": [
    {
     "name": "stdout",
     "output_type": "stream",
     "text": [
      "[0, 1, 2, 3, 4]\n",
      "[1, 0, 1, 2, 3]\n",
      "[2, 1, 1, 2, 2]\n",
      "[3, 2, 2, 1, 2]\n",
      "[4, 3, 3, 2, 1]\n",
      "[5, 4, 4, 3, 2]\n"
     ]
    }
   ],
   "source": [
    "cambios_minimos([\"C\",\"A\",\"S\",\"A\",\"S\"], [\"C\",\"O\",\"S\",\"A\"])"
   ]
  },
  {
   "cell_type": "markdown",
   "metadata": {},
   "source": [
    "#### Analicemos el resultado\n",
    "Miremos la primera columna: a medida qeu se agregan letras en el vector de [C,A,S,A,S], y el de [C,O,S,A] permanece vacío,  aumenta de a uno el costo. Lo mismo sucede con la primera fila.\n",
    "\n",
    "Si vemos el optimo(1,1) vemos que es 0 porque quiere transformar [C] en [C]. Tanto optimo(1,2) como optimo(2,1) es 1, ya que es cambiar [C,A] a [C], o [C] a [C,O]. \n",
    "\n",
    "Si analizamos optimo(5,3) (que sería [C,A,S,A,S] a [C,O,S]) el costo es 3, que sería cambiar la segunda letra, y agregar dos letras al final.\n",
    "\n",
    "Por último, el costo final de cambiar las palabras es optimo[5][4] = 2. Se puede ver que cambiando la segunda letra y agregando una S al final, se igualan las palabras."
   ]
  }
 ],
 "metadata": {
  "kernelspec": {
   "display_name": "Python 3",
   "language": "python",
   "name": "python3"
  },
  "language_info": {
   "codemirror_mode": {
    "name": "ipython",
    "version": 3
   },
   "file_extension": ".py",
   "mimetype": "text/x-python",
   "name": "python",
   "nbconvert_exporter": "python",
   "pygments_lexer": "ipython3",
   "version": "3.6.1"
  }
 },
 "nbformat": 4,
 "nbformat_minor": 2
}
