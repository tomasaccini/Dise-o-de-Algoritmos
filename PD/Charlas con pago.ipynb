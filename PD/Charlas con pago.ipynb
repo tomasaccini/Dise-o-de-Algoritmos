{
 "cells": [
  {
   "cell_type": "markdown",
   "metadata": {},
   "source": [
    "# Charlas con pago\n",
    "En este problema vamos a tener n charlas con un inicio, un fin y una ganancia. Queremos encontrar la combinación de charlas que nos dejen una ganancia mayor.\n",
    "\n",
    "### Algoritmos utilizados\n",
    "* Programación dinámica\n",
    "\n",
    "#### Análisis\n",
    "Vamos a armar la clase Charla, con un inicio, un fin, una ganancia, y un método para determinar si se superpone con otra charla"
   ]
  },
  {
   "cell_type": "code",
   "execution_count": 1,
   "metadata": {
    "collapsed": true
   },
   "outputs": [],
   "source": [
    "class Charla:\n",
    "    def __init__(self, inicio, fin, ganancia):\n",
    "        self.inicio = inicio\n",
    "        self.fin = fin\n",
    "        self.ganancia = ganancia\n",
    "    \n",
    "    def se_superpone(self, other):\n",
    "        if (self.inicio <= other.inicio and self.fin > other.inicio):\n",
    "            return True\n",
    "        if (self.inicio < other.fin and self.fin >= other.fin):\n",
    "            return True\n",
    "        if (self.inicio >= other.inicio and self.fin <= other.fin):\n",
    "            return True\n",
    "        if (self.inicio <= other.inicio and self.fin >= other.fin):\n",
    "            return True\n",
    "        return False\n",
    "    \n",
    "    def __str__(self):\n",
    "        return \"(\" + str(self.inicio) + \",\" + str(self.fin) + \",\" + str(self.ganancia) + \")\""
   ]
  },
  {
   "cell_type": "markdown",
   "metadata": {},
   "source": [
    "### Última charla compatible\n",
    "Armemos un arreglo en el que guardamos la última charla compatible. Primero ordenamos las charlas de menor a mayor fin.\n",
    "Ejemplo:\n",
    "charlas -> [ch0, ch1, ch2, ch3, ch4]\n",
    "UCC -> [-1, -1, 0, 1, 3]\n",
    "Esto representa que las charlas 0 y 1 no tienen charlas compatibles previas (son las primeras que podría realizar si las elijo). La charla anterior a la 2 es la 0, por lo que podría hacer la charla 0 y luego la charla 2 sin problemas. La anterior a la 3 es la 1, por lo que podría hacer la charla 1 y luego la 3. A la charla 4 la precede la 3, por lo que podría hacer la 3 y luego la 4, pero sabemos que a la charla 3 la precede la 1, por lo que podría combinar 1 -> 3 -> 4.\n"
   ]
  },
  {
   "cell_type": "code",
   "execution_count": 2,
   "metadata": {},
   "outputs": [
    {
     "name": "stdout",
     "output_type": "stream",
     "text": [
      "(1,3,10)\n",
      "(3,4,1)\n",
      "(3,4,2)\n",
      "(2,4,4)\n",
      "(1,5,1)\n",
      "(3,5,3)\n",
      "(3,6,6)\n",
      "(5,6,3)\n",
      "(4,6,5)\n",
      "(2,6,7)\n",
      "(2,7,10)\n",
      "(6,8,10)\n",
      "(3,8,12)\n",
      "(7,9,3)\n",
      "(6,9,1)\n",
      "(4,9,9)\n",
      "(1,10,25)\n",
      "(8,10,4)\n",
      "(7,10,9)\n",
      "(6,11,16)\n"
     ]
    }
   ],
   "source": [
    "charlas = []\n",
    "c0 = Charla(3,6,6)\n",
    "c1 = Charla(1,5,1)\n",
    "c2 = Charla(1,3,10)\n",
    "c3 = Charla(5,6,3)\n",
    "c4 = Charla(3,4,1)\n",
    "c5 = Charla(6,8,10)\n",
    "c6 = Charla(1,10,25)\n",
    "c7 = Charla(4,6,5)\n",
    "c8 = Charla(2,6,7)\n",
    "c9 = Charla(3,4,2)\n",
    "c10 = Charla(8,10,4)\n",
    "c11 = Charla(7,10,9)\n",
    "c12 = Charla(6,11,16)\n",
    "c13 = Charla(3,5,3)\n",
    "c14 = Charla(2,7,10)\n",
    "c15 = Charla(7,9,3)\n",
    "c16 = Charla(3,8,12)\n",
    "c17 = Charla(2,4,4)\n",
    "c18 = Charla(6,9,1)\n",
    "c19 = Charla(4,9,9)\n",
    "\n",
    "\n",
    "charlas.append(c0)\n",
    "charlas.append(c1)\n",
    "charlas.append(c2)\n",
    "charlas.append(c3)\n",
    "charlas.append(c4)\n",
    "charlas.append(c5)\n",
    "charlas.append(c6)\n",
    "charlas.append(c7)\n",
    "charlas.append(c8)\n",
    "charlas.append(c9)\n",
    "charlas.append(c10)\n",
    "charlas.append(c11)\n",
    "charlas.append(c12)\n",
    "charlas.append(c13)\n",
    "charlas.append(c14)\n",
    "charlas.append(c15)\n",
    "charlas.append(c16)\n",
    "charlas.append(c17)\n",
    "charlas.append(c18)\n",
    "charlas.append(c19)\n",
    "\n",
    "charlas.sort(key = lambda x: x.fin)\n",
    "for i in range(len(charlas)):\n",
    "    print(charlas[i])"
   ]
  },
  {
   "cell_type": "code",
   "execution_count": 3,
   "metadata": {},
   "outputs": [
    {
     "data": {
      "text/plain": [
       "[-1, 0, 0, -1, -1, 0, 0, 5, 3, -1, -1, 9, 0, 10, 9, 3, -1, 12, 10, 9]"
      ]
     },
     "execution_count": 3,
     "metadata": {},
     "output_type": "execute_result"
    }
   ],
   "source": [
    "compatibles = [-1]\n",
    "for i in range(1, len(charlas)):\n",
    "    for j in range(i - 1, -1, -1):\n",
    "        if (not charlas[j].se_superpone(charlas[i])):\n",
    "            compatibles.append(j)\n",
    "            break\n",
    "    if (len(compatibles) != i+1):\n",
    "        compatibles.append(-1)\n",
    "compatibles"
   ]
  },
  {
   "cell_type": "markdown",
   "metadata": {},
   "source": [
    "Ahora que tenemos el último compatible, podemos reconstruir el conjunto de charlas óptimo!"
   ]
  },
  {
   "cell_type": "code",
   "execution_count": 4,
   "metadata": {},
   "outputs": [],
   "source": [
    "optimo = [charlas[0].ganancia]\n",
    "for i in range(1, len(charlas)):\n",
    "    maximo = optimo[-1]\n",
    "    if (compatibles[i] == -1):\n",
    "        if (maximo < charlas[i].ganancia):\n",
    "            maximo = charlas[i].ganancia\n",
    "    else:\n",
    "        if (maximo < charlas[i].ganancia + optimo[compatibles[i]]):\n",
    "            maximo = charlas[i].ganancia + optimo[compatibles[i]]\n",
    "    optimo.append(maximo)"
   ]
  },
  {
   "cell_type": "code",
   "execution_count": 5,
   "metadata": {},
   "outputs": [
    {
     "data": {
      "text/plain": [
       "[10,\n",
       " 11,\n",
       " 12,\n",
       " 12,\n",
       " 12,\n",
       " 13,\n",
       " 16,\n",
       " 16,\n",
       " 17,\n",
       " 17,\n",
       " 17,\n",
       " 27,\n",
       " 27,\n",
       " 27,\n",
       " 27,\n",
       " 27,\n",
       " 27,\n",
       " 31,\n",
       " 31,\n",
       " 33]"
      ]
     },
     "execution_count": 5,
     "metadata": {},
     "output_type": "execute_result"
    }
   ],
   "source": [
    "optimo"
   ]
  },
  {
   "cell_type": "markdown",
   "metadata": {},
   "source": [
    "Vemos que a medida que analiza más charlas (tiene más opciones) el resultado óptimo mejora o se mantiene, pero nunca empeora. El resultado óptimo será entonces optimo[len(optimo) - 1]."
   ]
  }
 ],
 "metadata": {
  "kernelspec": {
   "display_name": "Python 3",
   "language": "python",
   "name": "python3"
  },
  "language_info": {
   "codemirror_mode": {
    "name": "ipython",
    "version": 3
   },
   "file_extension": ".py",
   "mimetype": "text/x-python",
   "name": "python",
   "nbconvert_exporter": "python",
   "pygments_lexer": "ipython3",
   "version": "3.6.1"
  }
 },
 "nbformat": 4,
 "nbformat_minor": 2
}
